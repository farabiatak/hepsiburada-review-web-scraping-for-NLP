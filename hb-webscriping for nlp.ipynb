{
 "cells": [
  {
   "cell_type": "code",
   "execution_count": 1,
   "id": "b2bd86e1",
   "metadata": {},
   "outputs": [],
   "source": [
    "from urllib.request import urlopen\n",
    "import requests\n",
    "from bs4 import BeautifulSoup as bts\n",
    "import pandas as pd\n",
    "import re\n",
    "import numpy as np\n",
    "from bs4 import BeautifulSoup\n",
    "import requests\n",
    "import time, os"
   ]
  },
  {
   "cell_type": "code",
   "execution_count": null,
   "id": "b3695e4d",
   "metadata": {},
   "outputs": [],
   "source": [
    "def GetAndParseURL(url):\n",
    "    result = requests.get(url, headers={\"User-Agent\":\"Chrome/103.0.0.0\"}) \n",
    "    soup = bts(result.text, \"html.parser\")\n",
    "    return soup"
   ]
  },
  {
   "cell_type": "code",
   "execution_count": null,
   "id": "5d11cc7b",
   "metadata": {},
   "outputs": [],
   "source": [
    "page_num = [\"https://www.hepsiburada.com/fantastik-elyaf-astarli-pvc-masa-ortusu-silinebilir-sivi-gecirmez-leke-tutmaz-yaprak-kabartma-desenli-gumus-gri-p-HBCV00001VFT4K-yorumlari?\"]\n",
    "def find_page_num():\n",
    "    for i in range(2,72):\n",
    "        page_num.append(\"https://www.hepsiburada.com/fantastik-elyaf-astarli-pvc-masa-ortusu-silinebilir-sivi-gecirmez-leke-tutmaz-yaprak-kabartma-desenli-gumus-gri-p-HBCV00001VFT4K-yorumlari?sayfa=\" + str(i))\n",
    "    return page_num\n",
    "find_page_num()"
   ]
  },
  {
   "cell_type": "code",
   "execution_count": null,
   "id": "e7adae9b",
   "metadata": {},
   "outputs": [],
   "source": [
    "### SAYFALAR SIRALARKEN DİKKAT ETMEMİZ GEREKEN HUSUS DÖNGÜYE ALDIĞIMIZ STRİNGİN NASIL OLDUĞUDUR.\n",
    "### HEPSİBURADADA 2 ŞEKİLDE YORUM GÖRÜNTÜLENİYOR BİZ İLKİNİ TERCİH EDECEĞİZ.\n",
    "### SONUNDA MAGAZA UZANTISI VARSA ONUNLA DONGU YAPMAYIN HATA VERİYOR .\n",
    "\n",
    "####  'https://www.hepsiburada.com/fantastik-elyaf-astar-desenli-gumus-gri-p-HBCV00001VFT4K-yorumlari?'  ++++  TRUE\n",
    "####  'https://www.hepsiburada.com/fantastik-elyaf-astardesenli-mor-p-HBCV00002DBZGK-yorumlari?magaza=NELTEKS'  ---- FALSE"
   ]
  },
  {
   "cell_type": "code",
   "execution_count": null,
   "id": "91a9b6c5",
   "metadata": {},
   "outputs": [],
   "source": [
    "new_page = page_num[0:27]\n",
    "##72 SAYFAMIZ OLMASINA RAGMEN 27 SAYFA ÇEKMEMİZİN SEBEBİ SADECE 27 SAYFADA YORUM OLMASIDIR."
   ]
  },
  {
   "cell_type": "code",
   "execution_count": null,
   "id": "c4e316bf",
   "metadata": {},
   "outputs": [],
   "source": [
    "### DÖNGÜLERİ BAŞLATTIĞINIZDA FARKEDECEKSİZ Kİ DF ARASINDA SAYI AÇISINDAN UYUMSUZLUK VAR..\"DF=500 DF1=499 DF2=499 GİBİ\"\n",
    "### BUNUN SEBEBİ BAZI YORUMLARIN SADECE FOTOĞRAFLA YAPILMIŞ OLMASIDIR.MAXİMUM 1 VEYA 2 SAYFADA BÖYLE BİR DURUM VARDIR VE\n",
    "### GENELDE YORUMLARIN OLDUGU İLK VE SON SAYFADADIR BU SAYFALARI PAGE LİSTENİZDEN ÇIKARIRSANIZ SORUN AŞILACAKTIR.\n",
    "### ÖRNEKLERİNİ MEDİUM YAZIMDA GÖREBİLİRİSNİZ."
   ]
  },
  {
   "cell_type": "code",
   "execution_count": null,
   "id": "a6c3d7e8",
   "metadata": {},
   "outputs": [],
   "source": [
    "##BURADA YORUMUMUZ İÇİNDEKİ RATİNG YANİ YILDIZ SAYISINI ELDE EDİYORUZ.ARDINDAN DATAFRAME HALİNE GETİRİYORUZ.\n",
    "\n",
    "result = []\n",
    "for i in new_page:\n",
    "\n",
    "    html = getAndParseURL(i)\n",
    "    star = html.find_all(\"div\", {\"class\":\"hermes-RatingPointer-module-UefD0t2XvgGWsKdLkNoX\"})\n",
    "    for item in star :\n",
    "        item1 = str(item)\n",
    "        item2 = item1.count('star')\n",
    "        result.append(item2)                                   \n",
    "     \n",
    "\n",
    "    time.sleep(2)   \n",
    "    \n",
    "## YUKARIDA DONGU İLE TUM SAYFALARI ELDE ETTİKTEN SONRA BTS İLE ALDIGIMIZ KOD BLOGU İÇERİSİNDEKİ STRİNG 'STAR' SAYISI \n",
    "# KADAR YARUMLARIMIZDA RATİNG VAR . 'HEPSİBURADA.COM' İÇİN ÇALIŞMAKLA BİRLİKTE DİĞER SİTELER İÇİN BİRAZ DEĞİŞTİRİMESİ GEREKMETEDİR.\n"
   ]
  },
  {
   "cell_type": "code",
   "execution_count": null,
   "id": "71250309",
   "metadata": {},
   "outputs": [],
   "source": [
    "columns = [\"skor\"]\n",
    "df = pd.DataFrame(result,columns = columns)                   #####FİRST######\n",
    "len(df)\n",
    "df\n"
   ]
  },
  {
   "cell_type": "code",
   "execution_count": null,
   "id": "51aa8035",
   "metadata": {},
   "outputs": [],
   "source": [
    "result1 = []\n",
    "for i in new_page:\n",
    "\n",
    "    html = getAndParseURL(i)\n",
    "    review = html.find_all('span',{'itemprop':'description'})\n",
    "    for item in review :   \n",
    "        item1 = str(item)\n",
    "        item2 = item1.strip('<span itemprop=\"description\">').strip(\"</'\")\n",
    "        result1.append(item2)\n",
    "              \n",
    "time.sleep(5)        \n",
    "\n",
    "result1   \n",
    "\n",
    "##BURADAKİ DONGUDE YORUMLARIN KENDİSİNİ ÇEKİYORUZ ve DF HALİNE GETİRİYORUZ."
   ]
  },
  {
   "cell_type": "code",
   "execution_count": null,
   "id": "22c924e9",
   "metadata": {},
   "outputs": [],
   "source": [
    "columns = [\"reviews\"]\n",
    "df1 = pd.DataFrame(result1,columns = columns)\n",
    "len(df1)\n",
    "df1"
   ]
  },
  {
   "cell_type": "code",
   "execution_count": null,
   "id": "9af30be1",
   "metadata": {},
   "outputs": [],
   "source": [
    "liste = []\n",
    "\n",
    "for i in new_page:\n",
    "\n",
    "    html = getAndParseURL(i)\n",
    "    review = html.find_all('span',{'class':'hermes-ReviewCard-module-xvC02W_0j3edI0itfXVA'})\n",
    "    for item in review :\n",
    "            item1 = str(item)\n",
    "            item2 = item1.strip('<span class=\"hermes-ReviewCard-module-xvC02W_0j3edI0itfXVA\">').strip(\"</'\").split('cm ')\n",
    "            liste.append(item2)\n",
    "        \n",
    "\n",
    "liste_color = liste[1::2]\n",
    "liste_size = liste[::2]\n",
    "        \n",
    "        \n",
    "time.sleep(5) \n",
    "\n",
    "#BURADA YORUMLARIN YAPILDIĞI ÜRÜNÜN EBAT VE RENKLERİNİ ÇEKİP AYRI AYRI DF HALİNE GETİRİYORUZ."
   ]
  },
  {
   "cell_type": "code",
   "execution_count": null,
   "id": "cb880c19",
   "metadata": {},
   "outputs": [],
   "source": [
    "columns = [\"size\"]\n",
    "df2 = pd.DataFrame(liste_olcu,columns = columns)\n",
    "df2"
   ]
  },
  {
   "cell_type": "code",
   "execution_count": null,
   "id": "51ec5890",
   "metadata": {},
   "outputs": [],
   "source": [
    "columns = [\"color\"]\n",
    "df3 = pd.DataFrame(liste_renk,columns = columns)\n",
    "df3"
   ]
  },
  {
   "cell_type": "code",
   "execution_count": null,
   "id": "bd8f6331",
   "metadata": {},
   "outputs": [],
   "source": [
    "new_df=pd.concat([df,df1,df2,df3],axis = 1)  #BİR ARAYA GETİRİYORUZ VE YENİ DF OLUŞTURUYORUZ."
   ]
  },
  {
   "cell_type": "code",
   "execution_count": null,
   "id": "d6ac4133",
   "metadata": {},
   "outputs": [],
   "source": [
    "new_df.to_csv('hepsidata1.csv',index = False) # DF'Yİ PCYE ÇEKİYORUZ."
   ]
  }
 ],
 "metadata": {
  "kernelspec": {
   "display_name": "Python 3 (ipykernel)",
   "language": "python",
   "name": "python3"
  },
  "language_info": {
   "codemirror_mode": {
    "name": "ipython",
    "version": 3
   },
   "file_extension": ".py",
   "mimetype": "text/x-python",
   "name": "python",
   "nbconvert_exporter": "python",
   "pygments_lexer": "ipython3",
   "version": "3.9.7"
  }
 },
 "nbformat": 4,
 "nbformat_minor": 5
}
